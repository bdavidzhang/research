{
 "cells": [
  {
   "cell_type": "markdown",
   "metadata": {},
   "source": [
    "# AP Research Testing notebook"
   ]
  },
  {
   "cell_type": "code",
   "execution_count": 1,
   "id": "dd4bc017",
   "metadata": {},
   "outputs": [],
   "source": [
    "import qmcpy as qp\n",
    "import numpy as np\n"
   ]
  },
  {
   "cell_type": "markdown",
   "metadata": {},
   "source": [
    "## What am I doing here?"
   ]
  },
  {
   "cell_type": "markdown",
   "metadata": {},
   "source": [
    "To execute my research plan, I am going to test the performance of several integrals under different point sets in repsponse to different stopping criteria. Below is a list of integrals I am going to implement"
   ]
  },
  {
   "cell_type": "markdown",
   "metadata": {},
   "source": [
    "\n",
    "\n",
    "\n",
    "Keister Function\n",
    "\n",
    "Box integral\n",
    "\n",
    "Linear Function\n",
    "\n",
    "Baysesian Logistic Regression\n",
    "\n",
    "Genz Function \n",
    "\n",
    "Ishigami Function\n",
    "\n",
    "Multimodal 2d"
   ]
  },
  {
   "cell_type": "markdown",
   "metadata": {},
   "source": [
    "Below are the point sets I am going to implement"
   ]
  },
  {
   "cell_type": "markdown",
   "metadata": {},
   "source": [
    "Digital net (Sobol)\n",
    "\n",
    "Lattice\n",
    "\n",
    "Halton\n",
    "\n",
    "IID\n",
    "\n",
    "I will use all 4 of them for each integral"
   ]
  },
  {
   "cell_type": "markdown",
   "id": "6c9fa290",
   "metadata": {},
   "source": [
    "## Integrands"
   ]
  },
  {
   "cell_type": "markdown",
   "id": "0301ec98",
   "metadata": {},
   "source": [
    "### Keister Integral"
   ]
  },
  {
   "cell_type": "markdown",
   "metadata": {},
   "source": [
    "Below is an implementation of the Keister integral using lattices as a point set, I chose the integral with dimension 5 (5 variables) and a tolerance of 0.0001. The stopping criterion, `CubQMCLatticeG` is a stopping criterion that guarantees integration for lattices."
   ]
  },
  {
   "cell_type": "code",
   "execution_count": 8,
   "id": "242b3697",
   "metadata": {},
   "outputs": [],
   "source": [
    "dim = 5 #dimension\n",
    "lat = qp.Lattice(dim)\n",
    "tolerance = 1e-4\n",
    "gaussian_lattice = qp.Gaussian(lat,mean = 0,covariance=1/2) #true measure\n",
    "keister = qp.Keister(gaussian_lattice) #transform to integrand\n",
    "keister_lattice_gauss_g = qp.CubQMCLatticeG(keister,abs_tol=tolerance) #stopping criterion\n",
    "\n",
    "\n"
   ]
  },
  {
   "cell_type": "markdown",
   "metadata": {},
   "source": [
    "Below is the integration solution using QMC methods, as a comparison, the actual value of the integral is also listed."
   ]
  },
  {
   "cell_type": "code",
   "execution_count": 9,
   "id": "1e166ec5",
   "metadata": {},
   "outputs": [
    {
     "name": "stdout",
     "output_type": "stream",
     "text": [
      "[1.13597947]\n"
     ]
    }
   ],
   "source": [
    "#QMC simulation\n",
    "solution,data = keister_lattice_gauss_g.integrate()\n",
    "print(solution)"
   ]
  },
  {
   "cell_type": "code",
   "execution_count": 12,
   "id": "2cfaeb06",
   "metadata": {},
   "outputs": [
    {
     "name": "stdout",
     "output_type": "stream",
     "text": [
      "1.1353239910124924\n"
     ]
    }
   ],
   "source": [
    "#Actual Integral\n",
    "print(qp.Keister.exact_integ(qp.Keister,d=5))"
   ]
  },
  {
   "cell_type": "markdown",
   "metadata": {},
   "source": [
    "### Box Integral"
   ]
  },
  {
   "cell_type": "markdown",
   "metadata": {},
   "source": [
    "Box integral with dimension 4 and tolerance 0.001. Chosen point set as digital nets. "
   ]
  },
  {
   "cell_type": "code",
   "execution_count": 13,
   "metadata": {},
   "outputs": [],
   "source": [
    "d = 4\n",
    "tol = 1e-3\n",
    "dnet = qp.DigitalNetB2(dimension=d) #discrete distribution\n",
    "uniform_dnet = qp.Uniform(dnet) #true measure\n",
    "box = qp.BoxIntegral(uniform_dnet)\n",
    "box_dnet_uniform = qp.CubQMCNetG(box,abs_tol = tol)\n",
    "\n"
   ]
  },
  {
   "cell_type": "code",
   "execution_count": 14,
   "metadata": {},
   "outputs": [
    {
     "name": "stdout",
     "output_type": "stream",
     "text": [
      "[1.12194272 1.33333333]\n"
     ]
    }
   ],
   "source": [
    "solution,data = box_dnet_uniform.integrate()\n",
    "\n",
    "print(solution)"
   ]
  },
  {
   "cell_type": "markdown",
   "metadata": {},
   "source": [
    "### Linear Function"
   ]
  },
  {
   "cell_type": "markdown",
   "metadata": {},
   "source": [
    "Linear function for dimension 100 using digital nets. "
   ]
  },
  {
   "cell_type": "code",
   "execution_count": 17,
   "metadata": {},
   "outputs": [
    {
     "name": "stdout",
     "output_type": "stream",
     "text": [
      "-1.1757947504520416e-08\n"
     ]
    }
   ],
   "source": [
    "l = qp.Linear0(qp.DigitalNetB2(100,seed=7))\n",
    "x = l.discrete_distrib.gen_samples(2**10)\n",
    "y = l.f(x)\n",
    "print(y.mean())\n",
    "\n"
   ]
  },
  {
   "cell_type": "markdown",
   "metadata": {},
   "source": [
    "### Bayseian"
   ]
  },
  {
   "cell_type": "markdown",
   "metadata": {},
   "source": [
    "Bayseian integral for dimension 3 using digital nets"
   ]
  },
  {
   "cell_type": "code",
   "execution_count": 18,
   "metadata": {},
   "outputs": [
    {
     "name": "stdout",
     "output_type": "stream",
     "text": [
      "(1024, 2, 3)\n",
      "[[ 0.04639394 -0.01440543 -0.05498496]\n",
      " [ 0.02176581  0.02176581  0.02176581]]\n"
     ]
    }
   ],
   "source": [
    "blrcoeffs = qp.BayesianLRCoeffs(qp.DigitalNetB2(3,seed=7),feature_array=np.arange(8).reshape((4,2)),response_vector=[0,0,1,1])\n",
    "x = blrcoeffs.discrete_distrib.gen_samples(2**10)\n",
    "y = blrcoeffs.f(x)\n",
    "print(y.shape)\n",
    "print(y.mean(0))"
   ]
  },
  {
   "cell_type": "markdown",
   "metadata": {},
   "source": [
    "### Genz Function"
   ]
  },
  {
   "cell_type": "markdown",
   "metadata": {},
   "source": [
    "Genz function for dimension 2 with different function types and different coefficients"
   ]
  },
  {
   "cell_type": "code",
   "execution_count": 19,
   "metadata": {},
   "outputs": [
    {
     "name": "stdout",
     "output_type": "stream",
     "text": [
      "oscilatory      1   -0.351\n",
      "oscilatory      2   -0.380\n",
      "oscilatory      3   -0.217\n",
      "corner-peak     1   0.713\n",
      "corner-peak     2   0.712\n",
      "corner-peak     3   0.720\n"
     ]
    }
   ],
   "source": [
    "for kind_func in ['oscilatory','corner-peak']:\n",
    "\n",
    "    for kind_coeff in [1,2,3]:\n",
    "\n",
    "        g = qp.Genz(qp.DigitalNetB2(2,seed=7),kind_func=kind_func,kind_coeff=kind_coeff)\n",
    "\n",
    "        x = g.discrete_distrib.gen_samples(2**14)\n",
    "\n",
    "        y = g.f(x)\n",
    "\n",
    "        mu_hat = y.mean()\n",
    "\n",
    "        print('%-15s %-3d %.3f'%(kind_func,kind_coeff,mu_hat))"
   ]
  },
  {
   "cell_type": "markdown",
   "metadata": {},
   "source": [
    "### Ishigami"
   ]
  },
  {
   "cell_type": "markdown",
   "metadata": {},
   "source": [
    "The Ishigami function for dimension 3"
   ]
  },
  {
   "cell_type": "code",
   "execution_count": 20,
   "metadata": {},
   "outputs": [
    {
     "name": "stdout",
     "output_type": "stream",
     "text": [
      "3.499838620282203\n"
     ]
    }
   ],
   "source": [
    "ishigami = qp.Ishigami(qp.DigitalNetB2(3,seed=7))\n",
    "x = ishigami.discrete_distrib.gen_samples(2**10)\n",
    "y = ishigami.f(x)\n",
    "print(y.mean())"
   ]
  },
  {
   "cell_type": "markdown",
   "metadata": {},
   "source": [
    "### Multimodal 2D"
   ]
  },
  {
   "cell_type": "markdown",
   "metadata": {},
   "source": [
    "Multimonodal 2D integrals are also part of the implementation, I have yet to implement this in qmcpy."
   ]
  },
  {
   "cell_type": "code",
   "execution_count": 22,
   "metadata": {},
   "outputs": [],
   "source": [
    "#TODO: implement"
   ]
  },
  {
   "cell_type": "code",
   "execution_count": null,
   "metadata": {},
   "outputs": [],
   "source": []
  },
  {
   "cell_type": "code",
   "execution_count": null,
   "metadata": {},
   "outputs": [],
   "source": []
  },
  {
   "cell_type": "code",
   "execution_count": null,
   "metadata": {},
   "outputs": [],
   "source": []
  }
 ],
 "metadata": {
  "kernelspec": {
   "display_name": "Python 3 (ipykernel)",
   "language": "python",
   "name": "python3"
  },
  "language_info": {
   "codemirror_mode": {
    "name": "ipython",
    "version": 3
   },
   "file_extension": ".py",
   "mimetype": "text/x-python",
   "name": "python",
   "nbconvert_exporter": "python",
   "pygments_lexer": "ipython3",
   "version": "3.9.13"
  }
 },
 "nbformat": 4,
 "nbformat_minor": 5
}
